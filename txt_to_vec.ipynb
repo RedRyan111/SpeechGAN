{
 "cells": [
  {
   "cell_type": "code",
   "execution_count": 87,
   "metadata": {
    "collapsed": true
   },
   "outputs": [],
   "source": [
    "from matplotlib.backends.backend_agg import FigureCanvasAgg as FigureCanvas\n",
    "from python_speech_features import mfcc\n",
    "from matplotlib.figure import Figure\n",
    "import matplotlib.image as mpimg\n",
    "import matplotlib.pyplot as plt\n",
    "import librosa.display\n",
    "from PIL import Image\n",
    "import pandas as pd\n",
    "import numpy as np\n",
    "%matplotlib inline\n",
    "import librosa\n",
    "import glob"
   ]
  },
  {
   "cell_type": "code",
   "execution_count": 88,
   "metadata": {
    "collapsed": true
   },
   "outputs": [],
   "source": [
    "def txt2vec(inp):\n",
    "    count = 0\n",
    "    file = \"../../../Downloads/glove.840B.300d.txt\"\n",
    "    with open(file) as fname:\n",
    "        while(count<500):\n",
    "            count+=1\n",
    "            line = fname.readline().strip('\\n').split(\" \")\n",
    "            word = line.pop(0)\n",
    "            line = np.array(line)\n",
    "            line = line.astype(np.float)\n",
    "            if(inp==word):\n",
    "                return line\n",
    "        return np.zeros(300)"
   ]
  },
  {
   "cell_type": "code",
   "execution_count": 89,
   "metadata": {
    "collapsed": true
   },
   "outputs": [],
   "source": [
    "def describe(his):\n",
    "    clips = pd.DataFrame(his, columns=[\"length\"])\n",
    "    clips.length = clips.length.astype(float)\n",
    "    print(clips.length.describe())\n",
    "    print(clips.length.quantile(0.92))"
   ]
  },
  {
   "cell_type": "code",
   "execution_count": 249,
   "metadata": {},
   "outputs": [
    {
     "ename": "IndexError",
     "evalue": "index 1 is out of bounds for axis 0 with size 1",
     "output_type": "error",
     "traceback": [
      "\u001b[0;31m---------------------------------------------------------------------------\u001b[0m",
      "\u001b[0;31mIndexError\u001b[0m                                Traceback (most recent call last)",
      "\u001b[0;32m<ipython-input-249-c752c3d0b314>\u001b[0m in \u001b[0;36m<module>\u001b[0;34m()\u001b[0m\n\u001b[1;32m      1\u001b[0m \u001b[0mcorpus\u001b[0m \u001b[0;34m=\u001b[0m \u001b[0mnp\u001b[0m\u001b[0;34m.\u001b[0m\u001b[0mzeros\u001b[0m\u001b[0;34m(\u001b[0m\u001b[0;34m(\u001b[0m\u001b[0;36m1\u001b[0m\u001b[0;34m,\u001b[0m\u001b[0;36m43\u001b[0m\u001b[0;34m,\u001b[0m\u001b[0;36m300\u001b[0m\u001b[0;34m)\u001b[0m\u001b[0;34m)\u001b[0m\u001b[0;34m\u001b[0m\u001b[0m\n\u001b[0;32m----> 2\u001b[0;31m \u001b[0mcorpus\u001b[0m\u001b[0;34m[\u001b[0m\u001b[0;36m1\u001b[0m\u001b[0;34m,\u001b[0m\u001b[0;36m43\u001b[0m\u001b[0;34m,\u001b[0m\u001b[0;36m1\u001b[0m\u001b[0;34m]\u001b[0m\u001b[0;34m\u001b[0m\u001b[0m\n\u001b[0m",
      "\u001b[0;31mIndexError\u001b[0m: index 1 is out of bounds for axis 0 with size 1"
     ]
    }
   ],
   "source": [
    "corpus = np.zeros((1,43,300))"
   ]
  },
  {
   "cell_type": "code",
   "execution_count": 254,
   "metadata": {
    "collapsed": true
   },
   "outputs": [],
   "source": [
    "def txt_func(fname):\n",
    "    max_length = 43\n",
    "    corpus = np.zeros((1,43,300))\n",
    "    lines = fname.readlines()\n",
    "    par = [line.replace(\"'\",\"\").strip('\\n').split(\" \") for line in lines]\n",
    "    for elem in par: elem.pop(0)\n",
    "    row = [[i.lower() for i in j] for j in par]\n",
    "    \n",
    "    for j in par:\n",
    "        if(len(j)>43):\n",
    "            return corpus\n",
    "        \n",
    "        for i in range(len(j)):\n",
    "            hold = txt2vec(j[i])\n",
    "            hold = np.array(hold)\n",
    "            corpus[0,i,:] = hold\n",
    "\n",
    "    return corpus"
   ]
  },
  {
   "cell_type": "code",
   "execution_count": 255,
   "metadata": {
    "collapsed": true
   },
   "outputs": [],
   "source": [
    "def aud_func(y,sr):\n",
    "        max_seconds = 15\n",
    "        max_length = max_seconds*sr\n",
    "        img_arr = np.zeros(max_length)\n",
    "        padd = lambda x: y[x] if(x<y.shape[0]) else 0\n",
    "        for i in range(len(img_arr)):\n",
    "            img_arr[i]=padd(i)\n",
    "            \n",
    "        D = np.abs(librosa.stft(img_arr))\n",
    "        S = librosa.feature.melspectrogram(S=D,fmax=3000)\n",
    "        S = librosa.feature.melspectrogram(y=img_arr,sr=sr,n_mels=40,fmax=3000)\n",
    "\n",
    "        fig = librosa.display.specshow(librosa.power_to_db(S,ref=np.max),y_axis='linear')\n",
    "        plt.axis('off')\n",
    "        fig.axes.get_xaxis().set_visible(False)\n",
    "        fig.axes.get_yaxis().set_visible(False)\n",
    "        plt.savefig('test.png',bbox_inches='tight',pad_inches=0)\n",
    "        \n",
    "        image = mpimg.imread('test.png')\n",
    "        return image"
   ]
  },
  {
   "cell_type": "code",
   "execution_count": 256,
   "metadata": {
    "collapsed": true
   },
   "outputs": [],
   "source": [
    "#max_length = 43\n",
    "#file = sorted(glob.glob('dev-clean/LibriSpeech/dev-clean/*/*/'))\n",
    "file = \"dev-clean/LibriSpeech/dev-clean/84/121123/\""
   ]
  },
  {
   "cell_type": "code",
   "execution_count": 263,
   "metadata": {},
   "outputs": [
    {
     "name": "stdout",
     "output_type": "stream",
     "text": [
      "dev-clean/LibriSpeech/dev-clean/84/121123/84-121123.trans.txt\n",
      "dev-clean/LibriSpeech/dev-clean/84/121123/84-121123-0000.flac\n",
      "dev-clean/LibriSpeech/dev-clean/84/121123/84-121123-0001.flac\n",
      "dev-clean/LibriSpeech/dev-clean/84/121123/84-121123-0002.flac\n",
      "dev-clean/LibriSpeech/dev-clean/84/121123/84-121123-0003.flac\n",
      "dev-clean/LibriSpeech/dev-clean/84/121123/84-121123-0004.flac\n",
      "dev-clean/LibriSpeech/dev-clean/84/121123/84-121123-0005.flac\n",
      "dev-clean/LibriSpeech/dev-clean/84/121123/84-121123-0006.flac\n",
      "dev-clean/LibriSpeech/dev-clean/84/121123/84-121123-0007.flac\n",
      "dev-clean/LibriSpeech/dev-clean/84/121123/84-121123-0008.flac\n",
      "dev-clean/LibriSpeech/dev-clean/84/121123/84-121123-0009.flac\n",
      "dev-clean/LibriSpeech/dev-clean/84/121123/84-121123-0010.flac\n",
      "dev-clean/LibriSpeech/dev-clean/84/121123/84-121123-0011.flac\n",
      "dev-clean/LibriSpeech/dev-clean/84/121123/84-121123-0012.flac\n",
      "dev-clean/LibriSpeech/dev-clean/84/121123/84-121123-0013.flac\n",
      "dev-clean/LibriSpeech/dev-clean/84/121123/84-121123-0014.flac\n",
      "dev-clean/LibriSpeech/dev-clean/84/121123/84-121123-0015.flac\n",
      "dev-clean/LibriSpeech/dev-clean/84/121123/84-121123-0016.flac\n",
      "dev-clean/LibriSpeech/dev-clean/84/121123/84-121123-0017.flac\n",
      "dev-clean/LibriSpeech/dev-clean/84/121123/84-121123-0018.flac\n",
      "dev-clean/LibriSpeech/dev-clean/84/121123/84-121123-0019.flac\n",
      "dev-clean/LibriSpeech/dev-clean/84/121123/84-121123-0020.flac\n",
      "dev-clean/LibriSpeech/dev-clean/84/121123/84-121123-0021.flac\n",
      "dev-clean/LibriSpeech/dev-clean/84/121123/84-121123-0022.flac\n",
      "dev-clean/LibriSpeech/dev-clean/84/121123/84-121123-0023.flac\n",
      "dev-clean/LibriSpeech/dev-clean/84/121123/84-121123-0024.flac\n",
      "dev-clean/LibriSpeech/dev-clean/84/121123/84-121123-0025.flac\n",
      "dev-clean/LibriSpeech/dev-clean/84/121123/84-121123-0026.flac\n",
      "dev-clean/LibriSpeech/dev-clean/84/121123/84-121123-0027.flac\n",
      "dev-clean/LibriSpeech/dev-clean/84/121123/84-121123-0028.flac\n"
     ]
    },
    {
     "data": {
      "image/png": "[encoded data removed]",
      "text/plain": [
       "<matplotlib.figure.Figure at 0x7f1fa1d50fd0>"
      ]
     },
     "metadata": {},
     "output_type": "display_data"
    }
   ],
   "source": [
    "txt_files = sorted(glob.glob(file+\"*.txt\"))\n",
    "aud_files = sorted(glob.glob(file+\"*.flac\"))\n",
    "tup_data = []\n",
    "\n",
    "txt_list = np.zeros((100,43,300))\n",
    "#aud_list = np.zeros((1,43,300))\n",
    "#txt_list = []\n",
    "aud_list = []\n",
    "\n",
    "txt_count = 0\n",
    "for txt in txt_files:\n",
    "    print(txt)\n",
    "    fname = open(txt)\n",
    "    sentence = txt_func(fname)\n",
    "    txt_list[txt_count,:,:] = sentence\n",
    "    fname.close()\n",
    "    txt_count+=1\n",
    "for aud in aud_files:\n",
    "    print(aud)\n",
    "    y, sr = librosa.load(aud)\n",
    "    img = aud_func(y,sr)\n",
    "    aud_list.append(img)    "
   ]
  },
  {
   "cell_type": "code",
   "execution_count": 266,
   "metadata": {},
   "outputs": [
    {
     "name": "stdout",
     "output_type": "stream",
     "text": [
      "(29, 224, 341, 4)\n",
      "(100, 43, 300)\n"
     ]
    }
   ],
   "source": [
    "aud_list = np.array(aud_list)\n",
    "txt_list = np.array(txt_list)\n",
    "print(aud_list.shape)\n",
    "print(txt_list.shape)"
   ]
  },
  {
   "cell_type": "code",
   "execution_count": 268,
   "metadata": {
    "collapsed": true
   },
   "outputs": [],
   "source": [
    "zipped = []\n",
    "for i in range(aud_list.shape[0]):\n",
    "    tup = (aud_list[i],txt_list[i])\n",
    "    zipped.append(tup)"
   ]
  },
  {
   "cell_type": "code",
   "execution_count": 269,
   "metadata": {
    "collapsed": true
   },
   "outputs": [],
   "source": [
    "txt_list = np.array(txt_list)\n",
    "aud_list = np.array(aud_list)\n",
    "zipped = np.array(zipped)"
   ]
  },
  {
   "cell_type": "code",
   "execution_count": 271,
   "metadata": {},
   "outputs": [
    {
     "name": "stdout",
     "output_type": "stream",
     "text": [
      "(100, 43, 300)\n",
      "(29, 224, 341, 4)\n",
      "(29, 2)\n",
      "(224, 341, 4)\n",
      "(43, 300)\n"
     ]
    }
   ],
   "source": [
    "print(txt_list.shape)\n",
    "print(aud_list.shape)\n",
    "print(zipped.shape)\n",
    "print(zipped[0][0].shape)\n",
    "print(zipped[0][1].shape)"
   ]
  },
  {
   "cell_type": "code",
   "execution_count": 274,
   "metadata": {
    "collapsed": true
   },
   "outputs": [],
   "source": [
    "np.save('data',zipped)"
   ]
  }
 ],
 "metadata": {
  "kernelspec": {
   "display_name": "Python 3",
   "language": "python",
   "name": "python3"
  },
  "language_info": {
   "codemirror_mode": {
    "name": "ipython",
    "version": 3
   },
   "file_extension": ".py",
   "mimetype": "text/x-python",
   "name": "python",
   "nbconvert_exporter": "python",
   "pygments_lexer": "ipython3",
   "version": "3.6.3"
  }
 },
 "nbformat": 4,
 "nbformat_minor": 2
}
